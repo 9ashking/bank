{
 "cells": [
  {
   "cell_type": "code",
   "execution_count": 4,
   "metadata": {},
   "outputs": [],
   "source": [
    "import pandas as pd\n",
    "import numpy as np\n",
    "import matplotlib.pyplot as plt\n",
    "import seaborn as sb\n"
   ]
  },
  {
   "cell_type": "code",
   "execution_count": 5,
   "metadata": {},
   "outputs": [],
   "source": [
    "from sklearn.metrics import confusion_matrix,classification_report,roc_curve\n",
    "from sklearn.model_selection import train_test_split,GridSearchCV"
   ]
  },
  {
   "cell_type": "code",
   "execution_count": 6,
   "metadata": {},
   "outputs": [],
   "source": [
    "from sklearn.feature_selection import SelectKBest,chi2"
   ]
  },
  {
   "cell_type": "code",
   "execution_count": 7,
   "metadata": {},
   "outputs": [],
   "source": [
    "from sklearn.svm import SVC\n",
    "from sklearn.neighbors import KNeighborsClassifier\n",
    "from sklearn.neural_network import MLPClassifier"
   ]
  },
  {
   "cell_type": "code",
   "execution_count": 8,
   "metadata": {},
   "outputs": [],
   "source": [
    "from sklearn.ensemble import RandomForestClassifier,AdaBoostClassifier,BaggingClassifier"
   ]
  },
  {
   "cell_type": "code",
   "execution_count": 9,
   "metadata": {},
   "outputs": [],
   "source": [
    "from sklearn.linear_model import LogisticRegression"
   ]
  },
  {
   "cell_type": "code",
   "execution_count": 10,
   "metadata": {},
   "outputs": [],
   "source": [
    "bank=pd.read_csv(\"D://project/bank/bank_final/bank_DBSCAN_label.csv\")"
   ]
  },
  {
   "cell_type": "code",
   "execution_count": 11,
   "metadata": {},
   "outputs": [
    {
     "data": {
      "text/html": [
       "<div>\n",
       "<style scoped>\n",
       "    .dataframe tbody tr th:only-of-type {\n",
       "        vertical-align: middle;\n",
       "    }\n",
       "\n",
       "    .dataframe tbody tr th {\n",
       "        vertical-align: top;\n",
       "    }\n",
       "\n",
       "    .dataframe thead th {\n",
       "        text-align: right;\n",
       "    }\n",
       "</style>\n",
       "<table border=\"1\" class=\"dataframe\">\n",
       "  <thead>\n",
       "    <tr style=\"text-align: right;\">\n",
       "      <th></th>\n",
       "      <th>Unnamed: 0</th>\n",
       "      <th>Average account balance</th>\n",
       "      <th>TN debtor transactions</th>\n",
       "      <th>TN creditor transactions</th>\n",
       "      <th>TN transactions</th>\n",
       "      <th>average debtor transaction</th>\n",
       "      <th>average creditor transaction</th>\n",
       "      <th>DBNCD</th>\n",
       "      <th>DFACD</th>\n",
       "      <th>Label_db</th>\n",
       "    </tr>\n",
       "  </thead>\n",
       "  <tbody>\n",
       "    <tr>\n",
       "      <th>0</th>\n",
       "      <td>0</td>\n",
       "      <td>0.888613</td>\n",
       "      <td>2.823709e-11</td>\n",
       "      <td>7.496866e-10</td>\n",
       "      <td>7.779237e-10</td>\n",
       "      <td>0.327629</td>\n",
       "      <td>0.006724</td>\n",
       "      <td>7.214495e-10</td>\n",
       "      <td>-0.320905</td>\n",
       "      <td>0</td>\n",
       "    </tr>\n",
       "    <tr>\n",
       "      <th>1</th>\n",
       "      <td>1</td>\n",
       "      <td>0.819328</td>\n",
       "      <td>4.558327e-11</td>\n",
       "      <td>1.185624e-09</td>\n",
       "      <td>1.231207e-09</td>\n",
       "      <td>0.414097</td>\n",
       "      <td>0.017987</td>\n",
       "      <td>1.140041e-09</td>\n",
       "      <td>-0.396109</td>\n",
       "      <td>0</td>\n",
       "    </tr>\n",
       "    <tr>\n",
       "      <th>2</th>\n",
       "      <td>2</td>\n",
       "      <td>0.948651</td>\n",
       "      <td>2.276487e-12</td>\n",
       "      <td>2.069534e-13</td>\n",
       "      <td>2.483440e-12</td>\n",
       "      <td>0.237297</td>\n",
       "      <td>0.206953</td>\n",
       "      <td>-2.069534e-12</td>\n",
       "      <td>-0.030344</td>\n",
       "      <td>0</td>\n",
       "    </tr>\n",
       "    <tr>\n",
       "      <th>3</th>\n",
       "      <td>3</td>\n",
       "      <td>0.544428</td>\n",
       "      <td>2.606154e-10</td>\n",
       "      <td>5.940497e-10</td>\n",
       "      <td>8.546651e-10</td>\n",
       "      <td>0.623510</td>\n",
       "      <td>0.557165</td>\n",
       "      <td>3.334344e-10</td>\n",
       "      <td>-0.066345</td>\n",
       "      <td>1</td>\n",
       "    </tr>\n",
       "    <tr>\n",
       "      <th>4</th>\n",
       "      <td>4</td>\n",
       "      <td>0.726898</td>\n",
       "      <td>3.599195e-12</td>\n",
       "      <td>1.270304e-11</td>\n",
       "      <td>1.630223e-11</td>\n",
       "      <td>0.557522</td>\n",
       "      <td>0.226929</td>\n",
       "      <td>9.103845e-12</td>\n",
       "      <td>-0.330593</td>\n",
       "      <td>0</td>\n",
       "    </tr>\n",
       "  </tbody>\n",
       "</table>\n",
       "</div>"
      ],
      "text/plain": [
       "   Unnamed: 0  Average account balance  TN debtor transactions  \\\n",
       "0           0                 0.888613            2.823709e-11   \n",
       "1           1                 0.819328            4.558327e-11   \n",
       "2           2                 0.948651            2.276487e-12   \n",
       "3           3                 0.544428            2.606154e-10   \n",
       "4           4                 0.726898            3.599195e-12   \n",
       "\n",
       "   TN creditor transactions  TN transactions  average debtor transaction  \\\n",
       "0              7.496866e-10     7.779237e-10                    0.327629   \n",
       "1              1.185624e-09     1.231207e-09                    0.414097   \n",
       "2              2.069534e-13     2.483440e-12                    0.237297   \n",
       "3              5.940497e-10     8.546651e-10                    0.623510   \n",
       "4              1.270304e-11     1.630223e-11                    0.557522   \n",
       "\n",
       "   average creditor transaction         DBNCD     DFACD  Label_db  \n",
       "0                      0.006724  7.214495e-10 -0.320905         0  \n",
       "1                      0.017987  1.140041e-09 -0.396109         0  \n",
       "2                      0.206953 -2.069534e-12 -0.030344         0  \n",
       "3                      0.557165  3.334344e-10 -0.066345         1  \n",
       "4                      0.226929  9.103845e-12 -0.330593         0  "
      ]
     },
     "execution_count": 11,
     "metadata": {},
     "output_type": "execute_result"
    }
   ],
   "source": [
    "bank.head()"
   ]
  },
  {
   "cell_type": "code",
   "execution_count": 12,
   "metadata": {},
   "outputs": [],
   "source": [
    "bank.drop(\"Unnamed: 0\",axis=1, inplace=True)"
   ]
  },
  {
   "cell_type": "code",
   "execution_count": 13,
   "metadata": {},
   "outputs": [
    {
     "data": {
      "text/html": [
       "<div>\n",
       "<style scoped>\n",
       "    .dataframe tbody tr th:only-of-type {\n",
       "        vertical-align: middle;\n",
       "    }\n",
       "\n",
       "    .dataframe tbody tr th {\n",
       "        vertical-align: top;\n",
       "    }\n",
       "\n",
       "    .dataframe thead th {\n",
       "        text-align: right;\n",
       "    }\n",
       "</style>\n",
       "<table border=\"1\" class=\"dataframe\">\n",
       "  <thead>\n",
       "    <tr style=\"text-align: right;\">\n",
       "      <th></th>\n",
       "      <th>Average account balance</th>\n",
       "      <th>TN debtor transactions</th>\n",
       "      <th>TN creditor transactions</th>\n",
       "      <th>TN transactions</th>\n",
       "      <th>average debtor transaction</th>\n",
       "      <th>average creditor transaction</th>\n",
       "      <th>DBNCD</th>\n",
       "      <th>DFACD</th>\n",
       "      <th>Label_db</th>\n",
       "    </tr>\n",
       "  </thead>\n",
       "  <tbody>\n",
       "    <tr>\n",
       "      <th>0</th>\n",
       "      <td>0.888613</td>\n",
       "      <td>2.823709e-11</td>\n",
       "      <td>7.496866e-10</td>\n",
       "      <td>7.779237e-10</td>\n",
       "      <td>0.327629</td>\n",
       "      <td>0.006724</td>\n",
       "      <td>7.214495e-10</td>\n",
       "      <td>-0.320905</td>\n",
       "      <td>0</td>\n",
       "    </tr>\n",
       "    <tr>\n",
       "      <th>1</th>\n",
       "      <td>0.819328</td>\n",
       "      <td>4.558327e-11</td>\n",
       "      <td>1.185624e-09</td>\n",
       "      <td>1.231207e-09</td>\n",
       "      <td>0.414097</td>\n",
       "      <td>0.017987</td>\n",
       "      <td>1.140041e-09</td>\n",
       "      <td>-0.396109</td>\n",
       "      <td>0</td>\n",
       "    </tr>\n",
       "    <tr>\n",
       "      <th>2</th>\n",
       "      <td>0.948651</td>\n",
       "      <td>2.276487e-12</td>\n",
       "      <td>2.069534e-13</td>\n",
       "      <td>2.483440e-12</td>\n",
       "      <td>0.237297</td>\n",
       "      <td>0.206953</td>\n",
       "      <td>-2.069534e-12</td>\n",
       "      <td>-0.030344</td>\n",
       "      <td>0</td>\n",
       "    </tr>\n",
       "    <tr>\n",
       "      <th>3</th>\n",
       "      <td>0.544428</td>\n",
       "      <td>2.606154e-10</td>\n",
       "      <td>5.940497e-10</td>\n",
       "      <td>8.546651e-10</td>\n",
       "      <td>0.623510</td>\n",
       "      <td>0.557165</td>\n",
       "      <td>3.334344e-10</td>\n",
       "      <td>-0.066345</td>\n",
       "      <td>1</td>\n",
       "    </tr>\n",
       "    <tr>\n",
       "      <th>4</th>\n",
       "      <td>0.726898</td>\n",
       "      <td>3.599195e-12</td>\n",
       "      <td>1.270304e-11</td>\n",
       "      <td>1.630223e-11</td>\n",
       "      <td>0.557522</td>\n",
       "      <td>0.226929</td>\n",
       "      <td>9.103845e-12</td>\n",
       "      <td>-0.330593</td>\n",
       "      <td>0</td>\n",
       "    </tr>\n",
       "  </tbody>\n",
       "</table>\n",
       "</div>"
      ],
      "text/plain": [
       "   Average account balance  TN debtor transactions  TN creditor transactions  \\\n",
       "0                 0.888613            2.823709e-11              7.496866e-10   \n",
       "1                 0.819328            4.558327e-11              1.185624e-09   \n",
       "2                 0.948651            2.276487e-12              2.069534e-13   \n",
       "3                 0.544428            2.606154e-10              5.940497e-10   \n",
       "4                 0.726898            3.599195e-12              1.270304e-11   \n",
       "\n",
       "   TN transactions  average debtor transaction  average creditor transaction  \\\n",
       "0     7.779237e-10                    0.327629                      0.006724   \n",
       "1     1.231207e-09                    0.414097                      0.017987   \n",
       "2     2.483440e-12                    0.237297                      0.206953   \n",
       "3     8.546651e-10                    0.623510                      0.557165   \n",
       "4     1.630223e-11                    0.557522                      0.226929   \n",
       "\n",
       "          DBNCD     DFACD  Label_db  \n",
       "0  7.214495e-10 -0.320905         0  \n",
       "1  1.140041e-09 -0.396109         0  \n",
       "2 -2.069534e-12 -0.030344         0  \n",
       "3  3.334344e-10 -0.066345         1  \n",
       "4  9.103845e-12 -0.330593         0  "
      ]
     },
     "execution_count": 13,
     "metadata": {},
     "output_type": "execute_result"
    }
   ],
   "source": [
    "bank.head()"
   ]
  },
  {
   "cell_type": "code",
   "execution_count": 14,
   "metadata": {},
   "outputs": [
    {
     "data": {
      "text/plain": [
       "<matplotlib.axes._subplots.AxesSubplot at 0xcffca10>"
      ]
     },
     "execution_count": 14,
     "metadata": {},
     "output_type": "execute_result"
    },
    {
     "data": {
      "image/png": "[encoded data removed]",
      "text/plain": [
       "<Figure size 792x648 with 2 Axes>"
      ]
     },
     "metadata": {
      "needs_background": "light"
     },
     "output_type": "display_data"
    }
   ],
   "source": [
    "plt.figure(figsize=(11,9))\n",
    "sb.heatmap(bank.corr(),annot=True)"
   ]
  },
  {
   "cell_type": "code",
   "execution_count": 15,
   "metadata": {},
   "outputs": [],
   "source": [
    "#creat sub dataset for creat model with importans feature  and train test_split_model"
   ]
  },
  {
   "cell_type": "code",
   "execution_count": 16,
   "metadata": {},
   "outputs": [],
   "source": [
    "x=bank.drop([\"Label_db\",\"DFACD\",\"DBNCD\"],axis=1) #drop DBNCD and DFACD be in khater k  :input dar chi2 baiad mosbat bashan\n",
    "y=bank.Label_db"
   ]
  },
  {
   "cell_type": "code",
   "execution_count": 17,
   "metadata": {},
   "outputs": [],
   "source": [
    "skb=SelectKBest(chi2,k=4)"
   ]
  },
  {
   "cell_type": "code",
   "execution_count": 18,
   "metadata": {},
   "outputs": [],
   "source": [
    "x_new=skb.fit_transform(x,y)"
   ]
  },
  {
   "cell_type": "code",
   "execution_count": 19,
   "metadata": {},
   "outputs": [
    {
     "data": {
      "text/plain": [
       "array([0.00000000e+000, 4.74920697e-001, 6.68146055e-001, 3.63134554e-001,\n",
       "       2.71066689e-305, 0.00000000e+000])"
      ]
     },
     "execution_count": 19,
     "metadata": {},
     "output_type": "execute_result"
    }
   ],
   "source": [
    "skb.pvalues_"
   ]
  },
  {
   "cell_type": "code",
   "execution_count": 20,
   "metadata": {},
   "outputs": [
    {
     "data": {
      "text/plain": [
       "array([2.75491608e+03, 1.48921488e+00, 8.06496970e-01, 2.02596368e+00,\n",
       "       1.40258252e+03, 1.50342912e+03])"
      ]
     },
     "execution_count": 20,
     "metadata": {},
     "output_type": "execute_result"
    }
   ],
   "source": [
    "skb.scores_"
   ]
  },
  {
   "cell_type": "code",
   "execution_count": 21,
   "metadata": {},
   "outputs": [
    {
     "data": {
      "text/plain": [
       "array([[8.88613352e-01, 7.77923654e-10, 3.27629133e-01, 6.72376750e-03],\n",
       "       [8.19327689e-01, 1.23120718e-09, 4.14096582e-01, 1.79872296e-02],\n",
       "       [9.48651487e-01, 2.48344037e-12, 2.37297108e-01, 2.06953365e-01],\n",
       "       ...,\n",
       "       [0.00000000e+00, 4.71404520e-05, 7.07106780e-01, 7.07106780e-01],\n",
       "       [0.00000000e+00, 2.82842712e-05, 7.07106781e-01, 7.07106781e-01],\n",
       "       [0.00000000e+00, 1.17851129e-04, 7.07106774e-01, 7.07106774e-01]])"
      ]
     },
     "execution_count": 21,
     "metadata": {},
     "output_type": "execute_result"
    }
   ],
   "source": [
    "x_new"
   ]
  },
  {
   "cell_type": "code",
   "execution_count": 39,
   "metadata": {},
   "outputs": [],
   "source": [
    "x=bank.drop([\"Label_db\",\"DBNCD\"],axis=1)"
   ]
  },
  {
   "cell_type": "code",
   "execution_count": 40,
   "metadata": {},
   "outputs": [],
   "source": [
    "xtrain,xtest,ytrain,ytest=train_test_split(x,y,random_state=33,test_size=0.3)\n",
    "xnew_train,xnew_test,ynew_train,ynew_test=train_test_split(x_new,y,random_state=33,test_size=0.3)"
   ]
  },
  {
   "cell_type": "code",
   "execution_count": 41,
   "metadata": {},
   "outputs": [],
   "source": [
    "##creat models [svm & knn & ANN & logistic regression & random forest & adabost]"
   ]
  },
  {
   "cell_type": "code",
   "execution_count": 42,
   "metadata": {},
   "outputs": [],
   "source": [
    "#svc"
   ]
  },
  {
   "cell_type": "code",
   "execution_count": 43,
   "metadata": {},
   "outputs": [],
   "source": [
    "##find best Parameters for svm\n",
    "param_grids={\"kernel\":[\"linear\",\"rbf\"],\n",
    "             \"C\":[5,10,15,30],\n",
    "             \"random_state\":[42,33,0,303]   \n",
    "}"
   ]
  },
  {
   "cell_type": "code",
   "execution_count": 44,
   "metadata": {},
   "outputs": [],
   "source": [
    "#find best params for SVC with Gridsearch cv\n",
    "grid=GridSearchCV(SVC(),param_grids)"
   ]
  },
  {
   "cell_type": "code",
   "execution_count": 45,
   "metadata": {},
   "outputs": [
    {
     "data": {
      "text/plain": [
       "GridSearchCV(cv=None, error_score=nan,\n",
       "             estimator=SVC(C=1.0, break_ties=False, cache_size=200,\n",
       "                           class_weight=None, coef0=0.0,\n",
       "                           decision_function_shape='ovr', degree=3,\n",
       "                           gamma='scale', kernel='rbf', max_iter=-1,\n",
       "                           probability=False, random_state=None, shrinking=True,\n",
       "                           tol=0.001, verbose=False),\n",
       "             iid='deprecated', n_jobs=None,\n",
       "             param_grid={'C': [5, 10, 15, 30], 'kernel': ['linear', 'rbf'],\n",
       "                         'random_state': [42, 33, 0, 303]},\n",
       "             pre_dispatch='2*n_jobs', refit=True, return_train_score=False,\n",
       "             scoring=None, verbose=0)"
      ]
     },
     "execution_count": 45,
     "metadata": {},
     "output_type": "execute_result"
    }
   ],
   "source": [
    "grid.fit(xtrain,ytrain)"
   ]
  },
  {
   "cell_type": "code",
   "execution_count": 46,
   "metadata": {},
   "outputs": [
    {
     "data": {
      "text/plain": [
       "SVC(C=15, break_ties=False, cache_size=200, class_weight=None, coef0=0.0,\n",
       "    decision_function_shape='ovr', degree=3, gamma='scale', kernel='rbf',\n",
       "    max_iter=-1, probability=False, random_state=42, shrinking=True, tol=0.001,\n",
       "    verbose=False)"
      ]
     },
     "execution_count": 46,
     "metadata": {},
     "output_type": "execute_result"
    }
   ],
   "source": [
    "grid.best_estimator_"
   ]
  },
  {
   "cell_type": "code",
   "execution_count": 47,
   "metadata": {},
   "outputs": [
    {
     "data": {
      "text/plain": [
       "0.9988469052008544"
      ]
     },
     "execution_count": 47,
     "metadata": {},
     "output_type": "execute_result"
    }
   ],
   "source": [
    "grid.best_score_"
   ]
  },
  {
   "cell_type": "code",
   "execution_count": 48,
   "metadata": {},
   "outputs": [
    {
     "data": {
      "text/plain": [
       "{'C': 15, 'kernel': 'rbf', 'random_state': 42}"
      ]
     },
     "execution_count": 48,
     "metadata": {},
     "output_type": "execute_result"
    }
   ],
   "source": [
    "grid.best_params_"
   ]
  },
  {
   "cell_type": "code",
   "execution_count": 49,
   "metadata": {},
   "outputs": [],
   "source": [
    "svc=SVC(kernel=\"rbf\",C=30,probability=True)"
   ]
  },
  {
   "cell_type": "code",
   "execution_count": 50,
   "metadata": {},
   "outputs": [
    {
     "name": "stdout",
     "output_type": "stream",
     "text": [
      "SVC \n",
      " ----------------------------------------\n",
      "score train::  0.9992661704581193  || score test:: 0.9980435314257765\n",
      "----------------------------------------\n",
      "              precision    recall  f1-score   support\n",
      "\n",
      "           0       1.00      1.00      1.00      1274\n",
      "           1       0.99      1.00      1.00      1029\n",
      "           2       1.00      1.00      1.00      1786\n",
      "\n",
      "    accuracy                           1.00      4089\n",
      "   macro avg       1.00      1.00      1.00      4089\n",
      "weighted avg       1.00      1.00      1.00      4089\n",
      "\n",
      "----------------------------------------\n",
      "[[1268    6    0]\n",
      " [   0 1027    2]\n",
      " [   0    0 1786]]\n"
     ]
    }
   ],
   "source": [
    "svc.fit(xtrain,ytrain)\n",
    "print(\"SVC\",\"\\n\",'-'*40)\n",
    "print(\"score train:: \",svc.score(xtrain,ytrain),\" || score test::\",svc.score(xtest,ytest))\n",
    "ypred=svc.predict(xtest)\n",
    "print(\"-\"*40)\n",
    "print(classification_report(ytest,ypred))\n",
    "print(\"-\"*40)\n",
    "print(confusion_matrix(ytest,ypred))"
   ]
  },
  {
   "cell_type": "code",
   "execution_count": 51,
   "metadata": {},
   "outputs": [
    {
     "data": {
      "text/plain": [
       "GridSearchCV(cv=None, error_score=nan,\n",
       "             estimator=SVC(C=1.0, break_ties=False, cache_size=200,\n",
       "                           class_weight=None, coef0=0.0,\n",
       "                           decision_function_shape='ovr', degree=3,\n",
       "                           gamma='scale', kernel='rbf', max_iter=-1,\n",
       "                           probability=False, random_state=None, shrinking=True,\n",
       "                           tol=0.001, verbose=False),\n",
       "             iid='deprecated', n_jobs=None,\n",
       "             param_grid={'C': [5, 10, 15, 30], 'kernel': ['linear', 'rbf'],\n",
       "                         'random_state': [42, 33, 0, 303]},\n",
       "             pre_dispatch='2*n_jobs', refit=True, return_train_score=False,\n",
       "             scoring=None, verbose=0)"
      ]
     },
     "execution_count": 51,
     "metadata": {},
     "output_type": "execute_result"
    }
   ],
   "source": [
    "grid.fit(xnew_train,ynew_train)"
   ]
  },
  {
   "cell_type": "code",
   "execution_count": 52,
   "metadata": {},
   "outputs": [
    {
     "data": {
      "text/plain": [
       "{'C': 30, 'kernel': 'rbf', 'random_state': 42}"
      ]
     },
     "execution_count": 52,
     "metadata": {},
     "output_type": "execute_result"
    }
   ],
   "source": [
    "grid.best_params_\n",
    "#hamon SVC "
   ]
  },
  {
   "cell_type": "code",
   "execution_count": 53,
   "metadata": {},
   "outputs": [
    {
     "name": "stdout",
     "output_type": "stream",
     "text": [
      "SVC \n",
      " ----------------------------------------\n",
      "score train::  0.9990565048747249  || score test:: 0.9982880899975544\n",
      "----------------------------------------\n",
      "              precision    recall  f1-score   support\n",
      "\n",
      "           0       1.00      1.00      1.00      1274\n",
      "           1       1.00      1.00      1.00      1029\n",
      "           2       1.00      1.00      1.00      1786\n",
      "\n",
      "    accuracy                           1.00      4089\n",
      "   macro avg       1.00      1.00      1.00      4089\n",
      "weighted avg       1.00      1.00      1.00      4089\n",
      "\n",
      "----------------------------------------\n",
      "[[1268    5    1]\n",
      " [   0 1028    1]\n",
      " [   0    0 1786]]\n"
     ]
    }
   ],
   "source": [
    "svc.fit(xnew_train,ynew_train)\n",
    "print(\"SVC\",\"\\n\",'-'*40)\n",
    "print(\"score train:: \",svc.score(xnew_train,ynew_train),\" || score test::\",svc.score(xnew_test,ynew_test))\n",
    "ynew_pred=svc.predict(xnew_test)\n",
    "print(\"-\"*40)\n",
    "print(classification_report(ynew_test,ynew_pred))\n",
    "print(\"-\"*40)\n",
    "print(confusion_matrix(ynew_test,ynew_pred))"
   ]
  },
  {
   "cell_type": "code",
   "execution_count": 54,
   "metadata": {},
   "outputs": [],
   "source": [
    "#knn"
   ]
  },
  {
   "cell_type": "code",
   "execution_count": 55,
   "metadata": {},
   "outputs": [],
   "source": [
    "knn_param={\"n_neighbors\":[3,4,5,6,7,8,9,15,20,30]\n",
    "          ,\"weights\":['uniform',\"distance\"],\n",
    "          }\n",
    "\n",
    "grid=GridSearchCV(KNeighborsClassifier(),knn_param)"
   ]
  },
  {
   "cell_type": "code",
   "execution_count": 56,
   "metadata": {},
   "outputs": [
    {
     "data": {
      "text/plain": [
       "0.997693590534267"
      ]
     },
     "execution_count": 56,
     "metadata": {},
     "output_type": "execute_result"
    }
   ],
   "source": [
    "grid.fit(xtrain,ytrain)\n",
    "grid.best_score_"
   ]
  },
  {
   "cell_type": "code",
   "execution_count": 57,
   "metadata": {},
   "outputs": [
    {
     "data": {
      "text/plain": [
       "{'n_neighbors': 15, 'weights': 'distance'}"
      ]
     },
     "execution_count": 57,
     "metadata": {},
     "output_type": "execute_result"
    }
   ],
   "source": [
    "grid.best_params_"
   ]
  },
  {
   "cell_type": "code",
   "execution_count": 62,
   "metadata": {},
   "outputs": [],
   "source": [
    "knn=KNeighborsClassifier(n_neighbors=30,weights=\"distance\",metric=\"euclidean\")"
   ]
  },
  {
   "cell_type": "code",
   "execution_count": 63,
   "metadata": {},
   "outputs": [
    {
     "name": "stdout",
     "output_type": "stream",
     "text": [
      "train score:  1.0 test score:  0.9968207385668868\n",
      "****************************************\n",
      "              precision    recall  f1-score   support\n",
      "\n",
      "           0       1.00      1.00      1.00      1274\n",
      "           1       1.00      0.99      0.99      1029\n",
      "           2       1.00      1.00      1.00      1786\n",
      "\n",
      "    accuracy                           1.00      4089\n",
      "   macro avg       1.00      1.00      1.00      4089\n",
      "weighted avg       1.00      1.00      1.00      4089\n",
      "\n",
      "****************************************\n",
      "[[1269    4    1]\n",
      " [   4 1022    3]\n",
      " [   0    1 1785]]\n"
     ]
    }
   ],
   "source": [
    "knn.fit(xtrain,ytrain)\n",
    "print(\"train score: \",knn.score(xtrain,ytrain),\"test score: \",knn.score(xtest,ytest))\n",
    "print(\"*\"*40)\n",
    "ypred=knn.predict(xtest)\n",
    "print(classification_report(ytest,ypred))\n",
    "print(\"*\"*40)\n",
    "print(confusion_matrix(ytest,ypred))"
   ]
  },
  {
   "cell_type": "code",
   "execution_count": 64,
   "metadata": {},
   "outputs": [
    {
     "data": {
      "text/plain": [
       "0.997588768731332"
      ]
     },
     "execution_count": 64,
     "metadata": {},
     "output_type": "execute_result"
    }
   ],
   "source": [
    "grid.fit(xnew_train,ynew_train) #xnew , ynew\n",
    "grid.best_score_"
   ]
  },
  {
   "cell_type": "code",
   "execution_count": 65,
   "metadata": {},
   "outputs": [
    {
     "data": {
      "text/plain": [
       "{'n_neighbors': 30, 'weights': 'distance'}"
      ]
     },
     "execution_count": 65,
     "metadata": {},
     "output_type": "execute_result"
    }
   ],
   "source": [
    "grid.best_params_"
   ]
  },
  {
   "cell_type": "code",
   "execution_count": 66,
   "metadata": {},
   "outputs": [
    {
     "name": "stdout",
     "output_type": "stream",
     "text": [
      "score train:  1.0 score test:  0.9973098557104426\n",
      "########################################\n",
      "              precision    recall  f1-score   support\n",
      "\n",
      "           0       1.00      1.00      1.00      1274\n",
      "           1       1.00      0.99      1.00      1029\n",
      "           2       1.00      1.00      1.00      1786\n",
      "\n",
      "    accuracy                           1.00      4089\n",
      "   macro avg       1.00      1.00      1.00      4089\n",
      "weighted avg       1.00      1.00      1.00      4089\n",
      "\n",
      "[[1270    2    2]\n",
      " [   3 1023    3]\n",
      " [   0    1 1785]]\n"
     ]
    }
   ],
   "source": [
    "knn.fit(xnew_train,ynew_train)\n",
    "print(\"score train: \",knn.score(xnew_train,ynew_train),\"score test: \",knn.score(xnew_test,ynew_test))\n",
    "print(\"#\"*40)\n",
    "ypred=knn.predict(xnew_test)\n",
    "print(classification_report(ynew_test,ypred))\n",
    "print(confusion_matrix(ynew_test,ypred))"
   ]
  },
  {
   "cell_type": "code",
   "execution_count": 67,
   "metadata": {},
   "outputs": [],
   "source": [
    "#mlpclassifier"
   ]
  },
  {
   "cell_type": "code",
   "execution_count": 68,
   "metadata": {},
   "outputs": [],
   "source": [
    "param_mlp={\n",
    "    \"hidden_layer_sizes\":[(10,)],\n",
    "    \"activation\":[\"tanh\", \"relu\"]       \n",
    "}"
   ]
  },
  {
   "cell_type": "code",
   "execution_count": 69,
   "metadata": {},
   "outputs": [],
   "source": [
    "mlp=MLPClassifier((20,10),activation=\"logistic\",random_state=42)"
   ]
  },
  {
   "cell_type": "code",
   "execution_count": 70,
   "metadata": {},
   "outputs": [
    {
     "name": "stderr",
     "output_type": "stream",
     "text": [
      "c:\\users\\javan\\appdata\\local\\programs\\python\\python35-32\\lib\\site-packages\\sklearn\\neural_network\\_multilayer_perceptron.py:571: ConvergenceWarning: Stochastic Optimizer: Maximum iterations (200) reached and the optimization hasn't converged yet.\n",
      "  % self.max_iter, ConvergenceWarning)\n"
     ]
    },
    {
     "data": {
      "text/plain": [
       "MLPClassifier(activation='logistic', alpha=0.0001, batch_size='auto',\n",
       "              beta_1=0.9, beta_2=0.999, early_stopping=False, epsilon=1e-08,\n",
       "              hidden_layer_sizes=(20, 10), learning_rate='constant',\n",
       "              learning_rate_init=0.001, max_fun=15000, max_iter=200,\n",
       "              momentum=0.9, n_iter_no_change=10, nesterovs_momentum=True,\n",
       "              power_t=0.5, random_state=42, shuffle=True, solver='adam',\n",
       "              tol=0.0001, validation_fraction=0.1, verbose=False,\n",
       "              warm_start=False)"
      ]
     },
     "execution_count": 70,
     "metadata": {},
     "output_type": "execute_result"
    }
   ],
   "source": [
    "mlp.fit(xtrain,ytrain)\n"
   ]
  },
  {
   "cell_type": "code",
   "execution_count": 71,
   "metadata": {},
   "outputs": [
    {
     "name": "stdout",
     "output_type": "stream",
     "text": [
      "score train:  0.9987420064996331 score test:  0.9977989728539985\n",
      "****************************************\n",
      "              precision    recall  f1-score   support\n",
      "\n",
      "           0       1.00      1.00      1.00      1274\n",
      "           1       1.00      1.00      1.00      1029\n",
      "           2       1.00      1.00      1.00      1786\n",
      "\n",
      "    accuracy                           1.00      4089\n",
      "   macro avg       1.00      1.00      1.00      4089\n",
      "weighted avg       1.00      1.00      1.00      4089\n",
      "\n",
      "[[1269    4    1]\n",
      " [   1 1025    3]\n",
      " [   0    0 1786]]\n"
     ]
    }
   ],
   "source": [
    "print(\"score train: \",mlp.score(xtrain,ytrain),\"score test: \",mlp.score(xtest,ytest))\n",
    "print(\"*\"*40)\n",
    "ypred=mlp.predict(xtest)\n",
    "\n",
    "print(classification_report(ytest,ypred))\n",
    "print(confusion_matrix(ytest,ypred))\n"
   ]
  },
  {
   "cell_type": "code",
   "execution_count": 72,
   "metadata": {},
   "outputs": [],
   "source": [
    "#RandomForestClassifier"
   ]
  },
  {
   "cell_type": "code",
   "execution_count": 73,
   "metadata": {},
   "outputs": [],
   "source": [
    "rf_param={\"n_estimators\":[20,50,100],\n",
    "          \"criterion\":[\"gini\",\"entropy\"],\n",
    "           \"max_depth\":[5,10,20,100],\n",
    "}"
   ]
  },
  {
   "cell_type": "code",
   "execution_count": 74,
   "metadata": {},
   "outputs": [],
   "source": [
    "grid=GridSearchCV(RandomForestClassifier(random_state=42),rf_param)"
   ]
  },
  {
   "cell_type": "code",
   "execution_count": 75,
   "metadata": {},
   "outputs": [
    {
     "data": {
      "text/plain": [
       "GridSearchCV(cv=None, error_score=nan,\n",
       "             estimator=RandomForestClassifier(bootstrap=True, ccp_alpha=0.0,\n",
       "                                              class_weight=None,\n",
       "                                              criterion='gini', max_depth=None,\n",
       "                                              max_features='auto',\n",
       "                                              max_leaf_nodes=None,\n",
       "                                              max_samples=None,\n",
       "                                              min_impurity_decrease=0.0,\n",
       "                                              min_impurity_split=None,\n",
       "                                              min_samples_leaf=1,\n",
       "                                              min_samples_split=2,\n",
       "                                              min_weight_fraction_leaf=0.0,\n",
       "                                              n_estimators=100, n_jobs=None,\n",
       "                                              oob_score=False, random_state=42,\n",
       "                                              verbose=0, warm_start=False),\n",
       "             iid='deprecated', n_jobs=None,\n",
       "             param_grid={'criterion': ['gini', 'entropy'],\n",
       "                         'max_depth': [5, 10, 20, 100],\n",
       "                         'n_estimators': [20, 50, 100]},\n",
       "             pre_dispatch='2*n_jobs', refit=True, return_train_score=False,\n",
       "             scoring=None, verbose=0)"
      ]
     },
     "execution_count": 75,
     "metadata": {},
     "output_type": "execute_result"
    }
   ],
   "source": [
    "grid.fit(xtrain,ytrain)"
   ]
  },
  {
   "cell_type": "code",
   "execution_count": 76,
   "metadata": {},
   "outputs": [
    {
     "data": {
      "text/plain": [
       "0.9985323298583285"
      ]
     },
     "execution_count": 76,
     "metadata": {},
     "output_type": "execute_result"
    }
   ],
   "source": [
    "grid.best_score_"
   ]
  },
  {
   "cell_type": "code",
   "execution_count": 77,
   "metadata": {},
   "outputs": [
    {
     "data": {
      "text/plain": [
       "{'criterion': 'entropy', 'max_depth': 10, 'n_estimators': 100}"
      ]
     },
     "execution_count": 77,
     "metadata": {},
     "output_type": "execute_result"
    }
   ],
   "source": [
    "grid.best_params_"
   ]
  },
  {
   "cell_type": "code",
   "execution_count": 78,
   "metadata": {},
   "outputs": [],
   "source": [
    "rfc=RandomForestClassifier(n_estimators=20,criterion=\"entropy\",max_depth=20)"
   ]
  },
  {
   "cell_type": "code",
   "execution_count": 79,
   "metadata": {},
   "outputs": [
    {
     "data": {
      "text/plain": [
       "RandomForestClassifier(bootstrap=True, ccp_alpha=0.0, class_weight=None,\n",
       "                       criterion='entropy', max_depth=20, max_features='auto',\n",
       "                       max_leaf_nodes=None, max_samples=None,\n",
       "                       min_impurity_decrease=0.0, min_impurity_split=None,\n",
       "                       min_samples_leaf=1, min_samples_split=2,\n",
       "                       min_weight_fraction_leaf=0.0, n_estimators=20,\n",
       "                       n_jobs=None, oob_score=False, random_state=None,\n",
       "                       verbose=0, warm_start=False)"
      ]
     },
     "execution_count": 79,
     "metadata": {},
     "output_type": "execute_result"
    }
   ],
   "source": [
    "rfc.fit(xtrain,ytrain)"
   ]
  },
  {
   "cell_type": "code",
   "execution_count": 80,
   "metadata": {},
   "outputs": [
    {
     "name": "stdout",
     "output_type": "stream",
     "text": [
      "score train:  1.0 score test:  0.9968207385668868\n",
      "####################\n",
      "              precision    recall  f1-score   support\n",
      "\n",
      "           0       1.00      1.00      1.00      1274\n",
      "           1       1.00      0.99      1.00      1029\n",
      "           2       1.00      1.00      1.00      1786\n",
      "\n",
      "    accuracy                           1.00      4089\n",
      "   macro avg       1.00      1.00      1.00      4089\n",
      "weighted avg       1.00      1.00      1.00      4089\n",
      "\n",
      "[[1268    3    3]\n",
      " [   5 1023    1]\n",
      " [   1    0 1785]]\n"
     ]
    }
   ],
   "source": [
    "print(\"score train: \",rfc.score(xtrain,ytrain),\"score test: \",rfc.score(xtest,ytest))\n",
    "print(\"#\"*20)\n",
    "ypred=rfc.predict(xtest)\n",
    "print(classification_report(ytest,ypred))\n",
    "print(confusion_matrix(ytest,ypred))\n"
   ]
  },
  {
   "cell_type": "code",
   "execution_count": 59,
   "metadata": {},
   "outputs": [
    {
     "data": {
      "text/plain": [
       "array([0.36635325, 0.00209225, 0.00424036, 0.00238128, 0.36212019,\n",
       "       0.26281267])"
      ]
     },
     "execution_count": 59,
     "metadata": {},
     "output_type": "execute_result"
    }
   ],
   "source": [
    "#The importance of features in determining the output of the model\n",
    "rfc.feature_importances_ "
   ]
  },
  {
   "cell_type": "code",
   "execution_count": 60,
   "metadata": {},
   "outputs": [
    {
     "data": {
      "text/plain": [
       "RandomForestClassifier(bootstrap=True, ccp_alpha=0.0, class_weight=None,\n",
       "                       criterion='entropy', max_depth=20, max_features='auto',\n",
       "                       max_leaf_nodes=None, max_samples=None,\n",
       "                       min_impurity_decrease=0.0, min_impurity_split=None,\n",
       "                       min_samples_leaf=1, min_samples_split=2,\n",
       "                       min_weight_fraction_leaf=0.0, n_estimators=20,\n",
       "                       n_jobs=None, oob_score=False, random_state=None,\n",
       "                       verbose=0, warm_start=False)"
      ]
     },
     "execution_count": 60,
     "metadata": {},
     "output_type": "execute_result"
    }
   ],
   "source": [
    "rfc.fit(xnew_train,ynew_train)"
   ]
  },
  {
   "cell_type": "code",
   "execution_count": 61,
   "metadata": {},
   "outputs": [
    {
     "name": "stdout",
     "output_type": "stream",
     "text": [
      "score train:  1.0 score test:  0.9960870628515529\n",
      "####################\n",
      "              precision    recall  f1-score   support\n",
      "\n",
      "           0       1.00      1.00      1.00      1274\n",
      "           1       1.00      1.00      1.00      1029\n",
      "           2       1.00      1.00      1.00      1786\n",
      "\n",
      "    accuracy                           1.00      4089\n",
      "   macro avg       1.00      1.00      1.00      4089\n",
      "weighted avg       1.00      1.00      1.00      4089\n",
      "\n",
      "[[1268    5    1]\n",
      " [   0 1028    1]\n",
      " [   0    0 1786]]\n"
     ]
    }
   ],
   "source": [
    "print(\"score train: \",rfc.score(xnew_train,ynew_train),\"score test: \",rfc.score(xnew_test,ynew_test))\n",
    "print(\"#\"*20)\n",
    "ypred=rfc.predict(xnew_test)\n",
    "print(classification_report(ynew_test,ynew_pred))\n",
    "print(confusion_matrix(ynew_test,ynew_pred))"
   ]
  },
  {
   "cell_type": "code",
   "execution_count": 62,
   "metadata": {},
   "outputs": [
    {
     "data": {
      "text/plain": [
       "array([0.38749306, 0.00088024, 0.34287247, 0.26875423])"
      ]
     },
     "execution_count": 62,
     "metadata": {},
     "output_type": "execute_result"
    }
   ],
   "source": [
    "rfc.feature_importances_"
   ]
  },
  {
   "cell_type": "code",
   "execution_count": 63,
   "metadata": {},
   "outputs": [],
   "source": [
    "#adabootclassifier"
   ]
  },
  {
   "cell_type": "code",
   "execution_count": 64,
   "metadata": {},
   "outputs": [],
   "source": [
    "ada_param={\"n_estimators\":[20,25,30,50,100]\n",
    "           \n",
    "}"
   ]
  },
  {
   "cell_type": "code",
   "execution_count": 65,
   "metadata": {},
   "outputs": [],
   "source": [
    "grid=GridSearchCV(AdaBoostClassifier(random_state=42),ada_param)"
   ]
  },
  {
   "cell_type": "code",
   "execution_count": 66,
   "metadata": {},
   "outputs": [
    {
     "data": {
      "text/plain": [
       "GridSearchCV(cv=None, error_score=nan,\n",
       "             estimator=AdaBoostClassifier(algorithm='SAMME.R',\n",
       "                                          base_estimator=None,\n",
       "                                          learning_rate=1.0, n_estimators=50,\n",
       "                                          random_state=42),\n",
       "             iid='deprecated', n_jobs=None,\n",
       "             param_grid={'n_estimators': [20, 25, 30, 50, 100]},\n",
       "             pre_dispatch='2*n_jobs', refit=True, return_train_score=False,\n",
       "             scoring=None, verbose=0)"
      ]
     },
     "execution_count": 66,
     "metadata": {},
     "output_type": "execute_result"
    }
   ],
   "source": [
    "grid.fit(xtrain,ytrain)"
   ]
  },
  {
   "cell_type": "code",
   "execution_count": 67,
   "metadata": {},
   "outputs": [
    {
     "data": {
      "text/plain": [
       "{'n_estimators': 25}"
      ]
     },
     "execution_count": 67,
     "metadata": {},
     "output_type": "execute_result"
    }
   ],
   "source": [
    "grid.best_params_"
   ]
  },
  {
   "cell_type": "code",
   "execution_count": 68,
   "metadata": {},
   "outputs": [
    {
     "data": {
      "text/plain": [
       "0.9146671921498527"
      ]
     },
     "execution_count": 68,
     "metadata": {},
     "output_type": "execute_result"
    }
   ],
   "source": [
    "grid.best_score_"
   ]
  },
  {
   "cell_type": "code",
   "execution_count": 69,
   "metadata": {},
   "outputs": [],
   "source": [
    "ada=AdaBoostClassifier(n_estimators=25,random_state=42)"
   ]
  },
  {
   "cell_type": "code",
   "execution_count": 70,
   "metadata": {},
   "outputs": [
    {
     "data": {
      "text/plain": [
       "AdaBoostClassifier(algorithm='SAMME.R', base_estimator=None, learning_rate=1.0,\n",
       "                   n_estimators=25, random_state=42)"
      ]
     },
     "execution_count": 70,
     "metadata": {},
     "output_type": "execute_result"
    }
   ],
   "source": [
    "ada.fit(xtrain,ytrain)\n"
   ]
  },
  {
   "cell_type": "code",
   "execution_count": 71,
   "metadata": {},
   "outputs": [
    {
     "name": "stdout",
     "output_type": "stream",
     "text": [
      "score train:  0.9379389873152322 score test:  0.9393494741990707\n",
      "####################\n",
      "              precision    recall  f1-score   support\n",
      "\n",
      "           0       0.93      1.00      0.96      1274\n",
      "           1       0.87      0.98      0.92      1029\n",
      "           2       1.00      0.88      0.93      1786\n",
      "\n",
      "    accuracy                           0.94      4089\n",
      "   macro avg       0.93      0.95      0.94      4089\n",
      "weighted avg       0.94      0.94      0.94      4089\n",
      "\n",
      "[[1268    6    0]\n",
      " [  16 1009    4]\n",
      " [  73  149 1564]]\n"
     ]
    }
   ],
   "source": [
    "print(\"score train: \",ada.score(xtrain,ytrain),\"score test: \",ada.score(xtest,ytest))\n",
    "print(\"#\"*20)\n",
    "ypred=ada.predict(xtest)\n",
    "print(classification_report(ytest,ypred))\n",
    "print(confusion_matrix(ytest,ypred))\n"
   ]
  },
  {
   "cell_type": "code",
   "execution_count": 72,
   "metadata": {},
   "outputs": [
    {
     "data": {
      "text/plain": [
       "array([0.04, 0.  , 0.  , 0.  , 0.48, 0.48])"
      ]
     },
     "execution_count": 72,
     "metadata": {},
     "output_type": "execute_result"
    }
   ],
   "source": [
    "ada.feature_importances_ "
   ]
  },
  {
   "cell_type": "code",
   "execution_count": 73,
   "metadata": {},
   "outputs": [
    {
     "data": {
      "text/plain": [
       "AdaBoostClassifier(algorithm='SAMME.R', base_estimator=None, learning_rate=1.0,\n",
       "                   n_estimators=25, random_state=42)"
      ]
     },
     "execution_count": 73,
     "metadata": {},
     "output_type": "execute_result"
    }
   ],
   "source": [
    "ada.fit(xnew_train,ynew_train)"
   ]
  },
  {
   "cell_type": "code",
   "execution_count": 74,
   "metadata": {},
   "outputs": [
    {
     "name": "stdout",
     "output_type": "stream",
     "text": [
      "score train:  0.9379389873152322 score test:  0.9393494741990707\n",
      "####################\n",
      "              precision    recall  f1-score   support\n",
      "\n",
      "           0       1.00      1.00      1.00      1274\n",
      "           1       1.00      1.00      1.00      1029\n",
      "           2       1.00      1.00      1.00      1786\n",
      "\n",
      "    accuracy                           1.00      4089\n",
      "   macro avg       1.00      1.00      1.00      4089\n",
      "weighted avg       1.00      1.00      1.00      4089\n",
      "\n",
      "[[1268    5    1]\n",
      " [   0 1028    1]\n",
      " [   0    0 1786]]\n"
     ]
    }
   ],
   "source": [
    "print(\"score train: \",ada.score(xnew_train,ynew_train),\"score test: \",ada.score(xnew_test,ynew_test))\n",
    "print(\"#\"*20)\n",
    "ypred=ada.predict(xnew_test)\n",
    "print(classification_report(ynew_test,ynew_pred))\n",
    "print(confusion_matrix(ynew_test,ynew_pred))"
   ]
  },
  {
   "cell_type": "code",
   "execution_count": 75,
   "metadata": {},
   "outputs": [
    {
     "data": {
      "text/plain": [
       "array([0.04, 0.  , 0.48, 0.48])"
      ]
     },
     "execution_count": 75,
     "metadata": {},
     "output_type": "execute_result"
    }
   ],
   "source": [
    "ada.feature_importances_"
   ]
  },
  {
   "cell_type": "code",
   "execution_count": 76,
   "metadata": {},
   "outputs": [],
   "source": [
    "#logistic Regression"
   ]
  },
  {
   "cell_type": "code",
   "execution_count": 77,
   "metadata": {},
   "outputs": [],
   "source": [
    "logr=LogisticRegression(C=10)"
   ]
  },
  {
   "cell_type": "code",
   "execution_count": 78,
   "metadata": {},
   "outputs": [
    {
     "data": {
      "text/plain": [
       "LogisticRegression(C=10, class_weight=None, dual=False, fit_intercept=True,\n",
       "                   intercept_scaling=1, l1_ratio=None, max_iter=100,\n",
       "                   multi_class='auto', n_jobs=None, penalty='l2',\n",
       "                   random_state=None, solver='lbfgs', tol=0.0001, verbose=0,\n",
       "                   warm_start=False)"
      ]
     },
     "execution_count": 78,
     "metadata": {},
     "output_type": "execute_result"
    }
   ],
   "source": [
    "logr.fit(xtrain,ytrain)"
   ]
  },
  {
   "cell_type": "code",
   "execution_count": 79,
   "metadata": {},
   "outputs": [
    {
     "name": "stdout",
     "output_type": "stream",
     "text": [
      "score train:  0.9988468392913303 score test:  0.9973098557104426\n",
      "####################\n",
      "              precision    recall  f1-score   support\n",
      "\n",
      "           0       1.00      1.00      1.00      1274\n",
      "           1       0.99      1.00      1.00      1029\n",
      "           2       1.00      1.00      1.00      1786\n",
      "\n",
      "    accuracy                           1.00      4089\n",
      "   macro avg       1.00      1.00      1.00      4089\n",
      "weighted avg       1.00      1.00      1.00      4089\n",
      "\n",
      "[[1269    2    3]\n",
      " [   0 1027    2]\n",
      " [   0    4 1782]]\n"
     ]
    }
   ],
   "source": [
    "print(\"score train: \",logr.score(xtrain,ytrain),\"score test: \",logr.score(xtest,ytest))\n",
    "print(\"#\"*20)\n",
    "ypred=logr.predict(xtest)\n",
    "print(classification_report(ytest,ypred))\n",
    "print(confusion_matrix(ytest,ypred))\n"
   ]
  },
  {
   "cell_type": "code",
   "execution_count": 80,
   "metadata": {},
   "outputs": [
    {
     "data": {
      "text/plain": [
       "LogisticRegression(C=10, class_weight=None, dual=False, fit_intercept=True,\n",
       "                   intercept_scaling=1, l1_ratio=None, max_iter=100,\n",
       "                   multi_class='auto', n_jobs=None, penalty='l2',\n",
       "                   random_state=None, solver='lbfgs', tol=0.0001, verbose=0,\n",
       "                   warm_start=False)"
      ]
     },
     "execution_count": 80,
     "metadata": {},
     "output_type": "execute_result"
    }
   ],
   "source": [
    "logr.fit(xnew_train,ynew_train)"
   ]
  },
  {
   "cell_type": "code",
   "execution_count": 81,
   "metadata": {},
   "outputs": [
    {
     "name": "stdout",
     "output_type": "stream",
     "text": [
      "score train:  0.9988468392913303 score test:  0.9973098557104426\n",
      "####################\n",
      "              precision    recall  f1-score   support\n",
      "\n",
      "           0       1.00      1.00      1.00      1274\n",
      "           1       1.00      1.00      1.00      1029\n",
      "           2       1.00      1.00      1.00      1786\n",
      "\n",
      "    accuracy                           1.00      4089\n",
      "   macro avg       1.00      1.00      1.00      4089\n",
      "weighted avg       1.00      1.00      1.00      4089\n",
      "\n",
      "[[1268    5    1]\n",
      " [   0 1028    1]\n",
      " [   0    0 1786]]\n"
     ]
    }
   ],
   "source": [
    "print(\"score train: \",logr.score(xnew_train,ynew_train),\"score test: \",logr.score(xnew_test,ynew_test))\n",
    "print(\"#\"*20)\n",
    "ypred=logr.predict(xnew_test)\n",
    "print(classification_report(ynew_test,ynew_pred))\n",
    "print(confusion_matrix(ynew_test,ynew_pred))"
   ]
  },
  {
   "cell_type": "code",
   "execution_count": 82,
   "metadata": {},
   "outputs": [],
   "source": [
    "#bagging with knn , svm , logreg"
   ]
  },
  {
   "cell_type": "code",
   "execution_count": 88,
   "metadata": {},
   "outputs": [],
   "source": [
    "bag_param={\"base_estimator\":[SVC(),KNeighborsClassifier(),LogisticRegression()],\n",
    "           \"n_estimators\":[5,11,21,25,33],\n",
    "           \"random_state\":[0,42,33]\n",
    "    \n",
    "    \n",
    "    \n",
    "}"
   ]
  },
  {
   "cell_type": "code",
   "execution_count": 91,
   "metadata": {},
   "outputs": [],
   "source": [
    "grid=GridSearchCV(,bag_param)"
   ]
  },
  {
   "cell_type": "code",
   "execution_count": 92,
   "metadata": {},
   "outputs": [
    {
     "data": {
      "text/plain": [
       "GridSearchCV(cv=None, error_score=nan,\n",
       "             estimator=BaggingClassifier(base_estimator=None, bootstrap=True,\n",
       "                                         bootstrap_features=False,\n",
       "                                         max_features=1.0, max_samples=1.0,\n",
       "                                         n_estimators=10, n_jobs=None,\n",
       "                                         oob_score=False, random_state=None,\n",
       "                                         verbose=0, warm_start=False),\n",
       "             iid='deprecated', n_jobs=None,\n",
       "             param_grid={'base_estimator': [SVC(C=1.0, break_ties=False,\n",
       "                                                cache_size=200,\n",
       "                                                c...\n",
       "                                                               class_weight=None,\n",
       "                                                               dual=False,\n",
       "                                                               fit_intercept=True,\n",
       "                                                               intercept_scaling=1,\n",
       "                                                               l1_ratio=None,\n",
       "                                                               max_iter=100,\n",
       "                                                               multi_class='auto',\n",
       "                                                               n_jobs=None,\n",
       "                                                               penalty='l2',\n",
       "                                                               random_state=None,\n",
       "                                                               solver='lbfgs',\n",
       "                                                               tol=0.0001,\n",
       "                                                               verbose=0,\n",
       "                                                               warm_start=False)],\n",
       "                         'n_estimators': [5, 11, 21, 25, 33],\n",
       "                         'random_state': [0, 42, 33]},\n",
       "             pre_dispatch='2*n_jobs', refit=True, return_train_score=False,\n",
       "             scoring=None, verbose=0)"
      ]
     },
     "execution_count": 92,
     "metadata": {},
     "output_type": "execute_result"
    }
   ],
   "source": [
    "grid.fit(xtrain,ytrain)"
   ]
  },
  {
   "cell_type": "code",
   "execution_count": 94,
   "metadata": {},
   "outputs": [
    {
     "data": {
      "text/plain": [
       "{'base_estimator': SVC(C=1.0, break_ties=False, cache_size=200, class_weight=None, coef0=0.0,\n",
       "     decision_function_shape='ovr', degree=3, gamma='scale', kernel='rbf',\n",
       "     max_iter=-1, probability=False, random_state=None, shrinking=True,\n",
       "     tol=0.001, verbose=False), 'n_estimators': 33, 'random_state': 42}"
      ]
     },
     "execution_count": 94,
     "metadata": {},
     "output_type": "execute_result"
    }
   ],
   "source": [
    "grid.best_params_"
   ]
  },
  {
   "cell_type": "code",
   "execution_count": 97,
   "metadata": {},
   "outputs": [
    {
     "data": {
      "text/plain": [
       "0.9974840568621179"
      ]
     },
     "execution_count": 97,
     "metadata": {},
     "output_type": "execute_result"
    }
   ],
   "source": [
    "grid.best_score_"
   ]
  },
  {
   "cell_type": "code",
   "execution_count": 99,
   "metadata": {},
   "outputs": [],
   "source": [
    "bag=BaggingClassifier(SVC(kernel=\"rbf\",C=30,probability=True),n_estimators=33,random_state=42)"
   ]
  },
  {
   "cell_type": "code",
   "execution_count": 100,
   "metadata": {},
   "outputs": [
    {
     "data": {
      "text/plain": [
       "BaggingClassifier(base_estimator=SVC(C=30, break_ties=False, cache_size=200,\n",
       "                                     class_weight=None, coef0=0.0,\n",
       "                                     decision_function_shape='ovr', degree=3,\n",
       "                                     gamma='scale', kernel='rbf', max_iter=-1,\n",
       "                                     probability=True, random_state=None,\n",
       "                                     shrinking=True, tol=0.001, verbose=False),\n",
       "                  bootstrap=True, bootstrap_features=False, max_features=1.0,\n",
       "                  max_samples=1.0, n_estimators=33, n_jobs=None,\n",
       "                  oob_score=False, random_state=42, verbose=0,\n",
       "                  warm_start=False)"
      ]
     },
     "execution_count": 100,
     "metadata": {},
     "output_type": "execute_result"
    }
   ],
   "source": [
    "bag.fit(xtrain,ytrain)"
   ]
  },
  {
   "cell_type": "code",
   "execution_count": 101,
   "metadata": {},
   "outputs": [
    {
     "name": "stdout",
     "output_type": "stream",
     "text": [
      "score train:  0.9989516720830276 score test:  0.9977989728539985\n",
      "####################\n",
      "              precision    recall  f1-score   support\n",
      "\n",
      "           0       1.00      1.00      1.00      1274\n",
      "           1       1.00      1.00      1.00      1029\n",
      "           2       1.00      1.00      1.00      1786\n",
      "\n",
      "    accuracy                           1.00      4089\n",
      "   macro avg       1.00      1.00      1.00      4089\n",
      "weighted avg       1.00      1.00      1.00      4089\n",
      "\n",
      "[[1268    5    1]\n",
      " [   0 1027    2]\n",
      " [   1    0 1785]]\n"
     ]
    }
   ],
   "source": [
    "print(\"score train: \",bag.score(xtrain,ytrain),\"score test: \",bag.score(xtest,ytest))\n",
    "print(\"#\"*20)\n",
    "ypred=bag.predict(xtest)\n",
    "print(classification_report(ytest,ypred))\n",
    "print(confusion_matrix(ytest,ypred))\n"
   ]
  },
  {
   "cell_type": "code",
   "execution_count": 102,
   "metadata": {},
   "outputs": [
    {
     "name": "stdout",
     "output_type": "stream",
     "text": [
      "score train:  0.9988468392913303 score test:  0.9980435314257765\n",
      "####################\n",
      "              precision    recall  f1-score   support\n",
      "\n",
      "           0       1.00      1.00      1.00      1274\n",
      "           1       1.00      1.00      1.00      1029\n",
      "           2       1.00      1.00      1.00      1786\n",
      "\n",
      "    accuracy                           1.00      4089\n",
      "   macro avg       1.00      1.00      1.00      4089\n",
      "weighted avg       1.00      1.00      1.00      4089\n",
      "\n",
      "[[1268    5    1]\n",
      " [   0 1027    2]\n",
      " [   0    0 1786]]\n"
     ]
    }
   ],
   "source": [
    "bag.fit(xnew_train,ynew_train)\n",
    "print(\"score train: \",bag.score(xnew_train,ynew_train),\"score test: \",bag.score(xnew_test,ynew_test))\n",
    "print(\"#\"*20)\n",
    "ypred=bag.predict(xnew_test)\n",
    "print(classification_report(ynew_test,ypred))\n",
    "print(confusion_matrix(ynew_test,ypred))\n"
   ]
  },
  {
   "cell_type": "markdown",
   "metadata": {},
   "source": [
    "## end "
   ]
  }
 ],
 "metadata": {
  "kernelspec": {
   "display_name": "Python 3",
   "language": "python",
   "name": "python3"
  },
  "language_info": {
   "codemirror_mode": {
    "name": "ipython",
    "version": 3
   },
   "file_extension": ".py",
   "mimetype": "text/x-python",
   "name": "python",
   "nbconvert_exporter": "python",
   "pygments_lexer": "ipython3",
   "version": "3.8.5"
  }
 },
 "nbformat": 4,
 "nbformat_minor": 4
}
